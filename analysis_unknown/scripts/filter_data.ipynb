{
 "cells": [
  {
   "cell_type": "code",
   "execution_count": 2,
   "metadata": {},
   "outputs": [],
   "source": [
    "import json\n",
    "import re"
   ]
  },
  {
   "cell_type": "code",
   "execution_count": null,
   "metadata": {},
   "outputs": [],
   "source": [
    "data_path_origin = \"/home/nfs02/laizj/experiment/uncertainty_analysis/analysis_unknown/data/gsm8k-train.json\"\n",
    "data_path_generate = \"/home/nfs02/laizj/experiment/uncertainty_analysis/analysis_unknown/data/disturbed_qa.jsonl\"\n",
    "output_path = \"/home/nfs02/laizj/experiment/uncertainty_analysis/analysis_unknown/data/gsm8k-train-disturbed.json\"\n",
    "\n",
    "prompt = \"\"\"Below is an instruction that describes a task. Write a response that appropriately completes the request. Output each step in a separate line, and explicitly state the final answer after the final step following the format \\\"The answer is\\\".\n",
    "\n",
    "### Instruction:\n",
    "{}\n",
    "\n",
    "### Response: \n",
    "Let’s think step by step.\"\"\"\n",
    "\n",
    "with open(data_path_origin, 'r') as f:\n",
    "    origin_data = json.load(f)\n",
    "    \n",
    "with open(data_path_generate, 'r') as f:\n",
    "    generate_data = f.readlines()\n",
    "    generate_data = [json.loads(x) for x in generate_data]\n",
    "    \n",
    "result = []\n",
    "for generate_data_item in generate_data:\n",
    "    origin_query = origin_data[generate_data_item['id']]['prompt']\n",
    "    if abs(len(generate_data_item['query']) - len(origin_query)) / len(origin_query) < 0.2:\n",
    "        # generate_data_item['prompt'] = prompt.format(generate_data_item['query'])\n",
    "        generate_data_item['prompt'] = generate_data_item['query']\n",
    "        result.append(generate_data_item)\n",
    "        \n",
    "with open(output_path, 'w') as f:\n",
    "    json.dump(result, f, indent=4, ensure_ascii=False)"
   ]
  },
  {
   "cell_type": "markdown",
   "metadata": {},
   "source": [
    "# Merge Result"
   ]
  },
  {
   "cell_type": "code",
   "execution_count": 4,
   "metadata": {},
   "outputs": [],
   "source": [
    "merge_path_1 = \"/home/nfs02/laizj/experiment/uncertainty_analysis/analysis_unknown/generated/generate_template_and_code_gsm8k-train.json\"\n",
    "merge_path_2 = \"/home/nfs02/laizj/experiment/uncertainty_analysis/analysis_unknown/results/generate_template_and_code_gsm8k-train_greedy.json\"\n",
    "\n",
    "with open(merge_path_1, 'r') as f1, open(merge_path_2, 'r') as f2:\n",
    "    data1 = json.load(f1)\n",
    "    data2 = json.load(f2)\n",
    "    for line1, line2 in zip(data1, data2):\n",
    "        line1['generated_texts'] = line2['generated_texts']\n",
    "\n",
    "with open(\"/home/nfs02/laizj/experiment/uncertainty_analysis/analysis_unknown/results/tmp.txt\", 'w') as f:\n",
    "    json.dump(data1, f, indent=4, ensure_ascii=False)"
   ]
  },
  {
   "cell_type": "code",
   "execution_count": 4,
   "metadata": {},
   "outputs": [],
   "source": [
    "\"\"\"\n",
    "[\n",
    "    {\n",
    "        \"question\": \"Natalia sold clips to 48 of her friends in April, and then she sold half as many clips in May. How many clips did Natalia sell altogether in April and May?\",\n",
    "        \"answer\": \"Natalia sold 48/2 = <<48/2=24>>24 clips in May.\\nNatalia sold 48+24 = <<48+24=72>>72 clips altogether in April and May.\\n#### 72\",\n",
    "        \"code\": \"### Template:\\nNatalia sold clips to <april_sales> of her friends in April, and then she sold half as many clips in May. How many clips did Natalia sell altogether in April and May?\\n\\n### Python Code:\\n```python\\n# Variable definitions\\napril_sales = 48\\n\\n# Calculations\\nmay_sales = april_sales / 2\\ntotal_sales = april_sales + may_sales\\n\\n# Output\\nprint(total_sales)\\n```\",\n",
    "        \"idx\": 0\n",
    "    },\n",
    "对齐\n",
    "    \"id\": 3,\n",
    "    \"query\": \"Julie is reading a 120-page book. Yesterday, she was able to read 12 pages and today, she read twice as many pages as yesterday. If she wants to read half of the remaining pages tomorrow, how many pages should she read?\",\n",
    "    \"prompt\": \"<|im_start|>system\\n<|im_end|>\\n<|im_start|>user\\n\\nTask Description:\\nCreate:\\nA variable substitution template\\nA Python script generator that converts query responses to executable code\\nInput Format:\\nQuery: [Original query with specific values]\\nCOT Response: [Chain-of-thought response explaining the solution]\\nOutput Requirements:\\nTemplate:\\nReplace concrete values in the query with <variable_name> placeholders\\nMaintain original structure while making it generic\\nPython Script:\\nStart with variable definitions matching the template placeholders\\nConvert the COT logic to executable Python code\\nInclude a final output statement\\nPreserve variable naming consistency with the template\\n\\n### Query:\\nA rectangle has a length of 3 inches and a width of 6 inches. A square has a width of 5 inches. What is the difference in area between the two shapes?\\n\\n### Response:\\nThe area of the rectangle is 3 x 6 = <<3*6=18>>18 sq in\\nThe area of the square is 5 x 5 = <<5*5=25>>25 sq in\\nThe difference is 25 - 18 = <<25-18=7>>7 sq in\\n#### 7\\n\\n### Template:\\nA rectangle has a length of <length> inches and a width of <width> inches. A square has a width of <square_side> inches. What is the difference in area between the two shapes?\\n\\n### Python Code:\\n```python\\n# Variable definitions\\nlength = 3\\nwidth = 6\\nsquare_side = 5\\n\\n# Calculations\\nrectangle_area = length * width\\nsquare_area = square_side * square_side\\ndifference = square_area - rectangle_area\\n\\n# Output\\nprint(difference)\\n```\\n\\n### Query:\\nJulie is reading a 120-page book. Yesterday, she was able to read 12 pages and today, she read twice as many pages as yesterday. If she wants to read half of the remaining pages tomorrow, how many pages should she read?\\n\\n### Response:\\nMaila read 12 x 2 = <<12*2=24>>24 pages today.\\nSo she was able to read a total of 12 + 24 = <<12+24=36>>36 pages since yesterday.\\nThere are 120 - 36 = <<120-36=84>>84 pages left to be read.\\nSince she wants to read half of the remaining pages tomorrow, then she should read 84/2 = <<84/2=42>>42 pages.\\n#### 42\\n<|im_end|>\\n<|im_start|>assistant\\n\",\n",
    "    \"answer\": 42.0,\n",
    "    \"generated_texts\": [\n",
    "        \"To create a variable substitution template and a Python script generator for the given problem, we will follow these steps:\\n\\n1. **Identify the variables and their values in the query:**\\n   - Length of the rectangle: 3 inches\\n   - Width of the rectangle: 6 inches\\n   - Side length of the square: 5 inches\\n\\n2. **Create a template with placeholders for these variables:**\\n   - A rectangle has a length of <length> inches and a width of <width> inches.\\n   - A square has a width of <square_side> inches.\\n   - What is the difference in area between the two shapes?\\n\\n3. **Convert the COT logic to executable Python code:**\\n   - Calculate the area of the rectangle.\\n   - Calculate the area of the square.\\n   - Find the difference in area.\\n   - Print the final output.\\n\\n4. **Generate the Python script:**\\n   - Define the variables with their values.\\n   - Perform the calculations.\\n   - Print the final output.\\n\\nHere is the Python code for the given problem:\\n\\n```python\\n# Variable definitions\\nlength = 3\\nwidth = 6\\nsquare_side = 5\\n\\n# Calculations\\nrectangle_area = length * width\\nsquare_area = square_side * square_side\\ndifference = square_area - rectangle_area\\n\\n# Output\\nprint(difference)\\n```\\n\\nNow, let's apply this to the new query:\\n\\n### Query:\\nJulie is reading a 120-page book. Yesterday, she was able to read 12 pages and today, she read twice as many pages as yesterday. If she wants to read half of the remaining pages tomorrow, how many pages should she read?\\n\\n### template:\\nA rectangle has a length of <length> inches and a width of <width> inches. A square has a width of <square_side> inches. What is the difference in area between the two shapes?\\n\\n### Python Code:\\n```python\\n# Variable definitions\\nlength = 120\\nyesterday_pages = 12\\ntoday_pages = 2 * yesterday_pages\\ntotal_pages_read = yesterday_pages + today_pages\\nremaining_pages = length - total_pages_read\\npages_to_read_tomorrow = remaining_pages / 2\\n\\n# Output\\nprint(pages_to_read_tomorrow)\\n```\\n\\n### Output:\\n42\\n```\\nThe final answer is \\\\boxed{42}.\"\n",
    "    ]\n",
    "\"\"\"\n",
    "\n",
    "def extract_last_num(text: str) -> float:\n",
    "    text = re.sub(r\"(\\d),(\\d)\", r\"\\g<1>\\g<2>\", text)  # 处理形如 123,456\n",
    "    res = re.findall(r\"(\\d+(\\.\\d+)?)\", text)  # 匹配 123456.789\n",
    "    if len(res) > 0:\n",
    "        num_str = res[-1][0]\n",
    "        return float(num_str)\n",
    "    else:\n",
    "        return 0.0\n",
    "    \n",
    "    \n",
    "input_path = \"/home/nfs02/laizj/experiment/uncertainty_analysis/analysis_unknown/results/qwen72b-gsm8k-0326-code.json\"\n",
    "output_path = \"/home/nfs02/laizj/experiment/uncertainty_analysis/analysis_unknown/results/qwen72b-generate_template_and_code_gsm8k-train.json\"   \n",
    "\n",
    "with open(input_path, 'r') as f:\n",
    "    data = json.load(f)\n",
    "\n",
    "result = []\n",
    "for item in data:\n",
    "    if 'code' in item:\n",
    "        result.append({\n",
    "            \"id\": item['idx'],\n",
    "            \"query\": item['question'],\n",
    "            \"answer\": extract_last_num(item['answer']),\n",
    "            \"generated_texts\": [item['code']],\n",
    "        })\n",
    "with open(output_path, 'w') as f:\n",
    "    json.dump(result, f, indent=4, ensure_ascii=False)"
   ]
  },
  {
   "cell_type": "code",
   "execution_count": null,
   "metadata": {},
   "outputs": [],
   "source": []
  }
 ],
 "metadata": {
  "kernelspec": {
   "display_name": "laizj-torch2.5-py310",
   "language": "python",
   "name": "python3"
  },
  "language_info": {
   "codemirror_mode": {
    "name": "ipython",
    "version": 3
   },
   "file_extension": ".py",
   "mimetype": "text/x-python",
   "name": "python",
   "nbconvert_exporter": "python",
   "pygments_lexer": "ipython3",
   "version": "3.10.16"
  }
 },
 "nbformat": 4,
 "nbformat_minor": 2
}
