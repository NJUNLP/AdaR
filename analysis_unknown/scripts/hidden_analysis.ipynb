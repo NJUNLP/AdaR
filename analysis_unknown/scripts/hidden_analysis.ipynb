{
 "cells": [
  {
   "cell_type": "code",
   "execution_count": 1,
   "metadata": {},
   "outputs": [
    {
     "name": "stderr",
     "output_type": "stream",
     "text": [
      "/home/nfs01/anaconda3/envs/laizj-torch2.5-py310/lib/python3.10/site-packages/tqdm/auto.py:21: TqdmWarning: IProgress not found. Please update jupyter and ipywidgets. See https://ipywidgets.readthedocs.io/en/stable/user_install.html\n",
      "  from .autonotebook import tqdm as notebook_tqdm\n"
     ]
    }
   ],
   "source": [
    "\n",
    "\n",
    "\n",
    "\n",
    "\n",
    "\n",
    "\n",
    "import torch\n",
    "import numpy as np\n",
    "import torch.nn as nn\n",
    "import torch.nn.functional as F\n",
    "import json\n",
    "import re\n",
    "import yaml\n",
    "from transformers import AutoTokenizer, AutoModelForCausalLM\n",
    "import os\n",
    "from tqdm import tqdm, trange\n",
    "from matplotlib import pyplot as plt\n",
    "from matplotlib.colors import LinearSegmentedColormap\n",
    "\n",
    "os.environ[\"CUDA_VISIBLE_DEVICES\"] = \"0\"\n",
    "plt.rcParams['font.sans-serif'] = ['Noto Sans CJK JP']  # 设置字体为 SimHei\n",
    "plt.rcParams['axes.unicode_minus'] = False  # 解决负号显示问题\n",
    "cmap = LinearSegmentedColormap.from_list(\"prob_cmap\", [\"red\", \"yellow\", \"green\"])"
   ]
  },
  {
   "cell_type": "code",
   "execution_count": 2,
   "metadata": {},
   "outputs": [],
   "source": [
    "results_path = \"/home/nfs02/laizj/experiment/uncertainty_analysis/analysis_unknown/results/mgsm8k_inference_0.7_0.75_5.json\"\n",
    "source_path = \"/home/nfs02/laizj/experiment/uncertainty_analysis/analysis_unknown/data/mgsm8k_test.json\"\n",
    "model_path = \"/home/nfs03/laizj/model/models--kevinpro--MistralMathOctopus-7B/snapshots/de76d14562b1da1ba0e52d5b245cf9c0859e2af3\""
   ]
  },
  {
   "cell_type": "code",
   "execution_count": 8,
   "metadata": {},
   "outputs": [
    {
     "name": "stdout",
     "output_type": "stream",
     "text": [
      "927\n",
      "997\n",
      "576\n"
     ]
    }
   ],
   "source": [
    "correct_data = []\n",
    "half_data = []\n",
    "wrong_data = []\n",
    "\n",
    "def extract_last_num(text: str) -> float:\n",
    "    text = re.sub(r\"(\\d),(\\d)\", r\"\\g<1>\\g<2>\", text)  # 处理形如 123,456\n",
    "    res = re.findall(r\"(\\d+(\\.\\d+)?)\", text)  # 匹配 123456.789\n",
    "    if len(res) > 0:\n",
    "        num_str = res[-1][0]\n",
    "        return float(num_str)\n",
    "    else:\n",
    "        return 0.0\n",
    "\n",
    "source = None\n",
    "results = None\n",
    "with open(source_path, 'r') as src_f, open(results_path, 'r') as f:\n",
    "    source = json.load(src_f)\n",
    "    results = json.load(f)\n",
    "    source = results\n",
    "    \n",
    "for i in range(len(source)):\n",
    "    count = 0\n",
    "    results[i]['correct_generated_texts'] = []\n",
    "    results[i]['wrong_generated_texts'] = []\n",
    "    for generated_text in results[i][\"generated_texts\"]:\n",
    "        if abs(extract_last_num(source[i][\"answer\"]) - extract_last_num(generated_text)) < 1e-2:\n",
    "            count += 1\n",
    "            results[i]['correct_generated_texts'].append(generated_text)\n",
    "        else:\n",
    "            results[i]['wrong_generated_texts'].append(generated_text)\n",
    "    if count == 0:\n",
    "        wrong_data.append(results[i])\n",
    "    elif count == len(results[i][\"generated_texts\"]):\n",
    "        correct_data.append(results[i])\n",
    "    else:\n",
    "        half_data.append(results[i])\n",
    "\n",
    "\n",
    "print(len(correct_data))\n",
    "print(len(half_data))\n",
    "print(len(wrong_data))"
   ]
  },
  {
   "cell_type": "code",
   "execution_count": 5,
   "metadata": {},
   "outputs": [
    {
     "name": "stderr",
     "output_type": "stream",
     "text": [
      "Loading checkpoint shards: 100%|██████████| 6/6 [00:13<00:00,  2.30s/it]\n"
     ]
    }
   ],
   "source": [
    "tokenizer = AutoTokenizer.from_pretrained(model_path)\n",
    "model = AutoModelForCausalLM.from_pretrained(model_path, device_map='auto')\n",
    "        "
   ]
  },
  {
   "cell_type": "code",
   "execution_count": 79,
   "metadata": {},
   "outputs": [
    {
     "name": "stderr",
     "output_type": "stream",
     "text": [
      "  0%|          | 1/576 [00:00<04:02,  2.37it/s]\n"
     ]
    }
   ],
   "source": [
    "model.eval()\n",
    "results = []\n",
    "with torch.no_grad():\n",
    "    # for dataset in [correct_data, half_data, wrong_data]:\n",
    "    for dataset in [wrong_data]:\n",
    "        for i in trange(len(dataset)):\n",
    "            if dataset[i]['lang'] != 'Chinese': continue\n",
    "            inputs = tokenizer(dataset[i]['prompt'] + dataset[i]['wrong_generated_texts'][3], return_tensors=\"pt\").to(model.device)\n",
    "            outputs = model(**inputs, output_hidden_states=True)\n",
    "            results.append({\n",
    "                'prompt': dataset[i]['prompt'],\n",
    "                'answer': dataset[i]['answer'],\n",
    "                'generated_text': dataset[i]['prompt'] + dataset[i]['wrong_generated_texts'][3],\n",
    "                'outputs': outputs, \n",
    "                })\n",
    "            inputs = tokenizer(dataset[i]['prompt'] + dataset[i]['wrong_generated_texts'][1], return_tensors=\"pt\").to(model.device)\n",
    "            outputs = model(**inputs, output_hidden_states=True)\n",
    "            results.append({\n",
    "                'prompt': dataset[i]['prompt'],\n",
    "                'answer': dataset[i]['answer'],\n",
    "                'generated_text': dataset[i]['prompt'] + dataset[i]['wrong_generated_texts'][1],\n",
    "                'outputs': outputs, \n",
    "                })\n",
    "            break"
   ]
  },
  {
   "cell_type": "code",
   "execution_count": 34,
   "metadata": {},
   "outputs": [],
   "source": [
    "def merge_tokens_2_word(tokens, token_probs):\n",
    "    merged = []\n",
    "    merged_probs = []\n",
    "    \n",
    "    current_chars = []   # 当前累积的字符\n",
    "    current_probs = []   # 当前累积的概率\n",
    "    current_bytes = []   # 当前累积的字节\n",
    "    current_bytes_probs = []  # 字节标记对应的概率\n",
    "\n",
    "    def decode_bytes():\n",
    "        \"\"\"处理字节标记的合并\"\"\"\n",
    "        nonlocal current_bytes, current_bytes_probs\n",
    "        if not current_bytes:\n",
    "            return\n",
    "        \n",
    "        try:\n",
    "            # 解码字节序列\n",
    "            decoded = b''.join(current_bytes).decode('utf-8')\n",
    "            if current_chars:\n",
    "                # 处理已有字符\n",
    "                merged.append(''.join(current_chars))\n",
    "                merged_probs.append(current_probs.copy())\n",
    "                current_chars.clear()\n",
    "                current_probs.clear()\n",
    "            merged.append(decoded)\n",
    "            merged_probs.append(current_bytes_probs.copy())\n",
    "        except UnicodeDecodeError:\n",
    "            # 解码失败时保留原始标记\n",
    "            merged.extend([f'<0x{b.hex()}>' for b in current_bytes])\n",
    "            merged_probs.extend([[p] for p in current_bytes_probs])\n",
    "        \n",
    "        current_bytes.clear()\n",
    "        current_bytes_probs.clear()\n",
    "\n",
    "    for token, prob in zip(tokens, token_probs):\n",
    "        # 匹配字节标记 <0xXX>\n",
    "        byte_match = re.match(r'^<0x([0-9A-Fa-f]+)>$', token)\n",
    "        if byte_match:\n",
    "            # 累积字节和概率\n",
    "            current_bytes.append(bytes.fromhex(byte_match.group(1)))\n",
    "            current_bytes_probs.append(prob)\n",
    "        else:\n",
    "            # 遇到非字节标记先处理已累积的字节\n",
    "            decode_bytes()\n",
    "\n",
    "            # 处理特殊前缀 ▁\n",
    "            if token == '▁':\n",
    "                if current_chars:\n",
    "                    # 提交当前累积的词\n",
    "                    merged.append(''.join(current_chars))\n",
    "                    merged_probs.append(current_probs.copy())\n",
    "                    current_chars.clear()\n",
    "                    current_probs.clear()\n",
    "                current_chars.append(token)\n",
    "                current_probs.append(prob)\n",
    "            else:\n",
    "                current_chars.append(token)\n",
    "                current_probs.append(prob)\n",
    "    \n",
    "    # 处理最后剩余的标记\n",
    "    decode_bytes()\n",
    "    if current_chars:\n",
    "        merged.append(''.join(current_chars))\n",
    "        merged_probs.append(current_probs)\n",
    "\n",
    "    return merged, merged_probs"
   ]
  },
  {
   "cell_type": "code",
   "execution_count": 52,
   "metadata": {},
   "outputs": [],
   "source": [
    "\n",
    "def analysis_per_sample(data, fix_prob=0.3):\n",
    "    prompt_ids = tokenizer(data['prompt'], return_tensors=\"pt\")['input_ids'][0]\n",
    "    input_ids = tokenizer(data['generated_text'], return_tensors=\"pt\")['input_ids'][0][prompt_ids.size(-1):]\n",
    "\n",
    "    logits = data['outputs'].logits[0, prompt_ids.size(-1) - 1: -1, :].cpu()\n",
    "    probs = F.softmax(logits, dim=-1)\n",
    "\n",
    "    token_probs = probs.gather(dim=-1, index=input_ids.unsqueeze(-1)).squeeze(-1)\n",
    "\n",
    "    tokens = tokenizer.convert_ids_to_tokens(input_ids.tolist())\n",
    "    # tokens, token_probs = merge_tokens_2_word(tokens, token_probs)\n",
    "    # print(tokens)\n",
    "    \n",
    "\n",
    "    # filtered_tokens = []\n",
    "    # filtered_probs = []\n",
    "    # for token, prob in zip(tokens, token_probs):\n",
    "    #     if prob < fix_prob: \n",
    "    #         filtered_tokens.append(token)\n",
    "    #         filtered_probs.append(prob.item())\n",
    "\n",
    "    # print(filtered_tokens)\n",
    "\n",
    "    # # 绘制图表\n",
    "    # plt.figure(figsize=(12, 6))\n",
    "    # plt.bar(range(len(filtered_tokens)), filtered_probs, tick_label=filtered_tokens)\n",
    "    # plt.xlabel('Tokens')\n",
    "    # plt.ylabel('Probability')\n",
    "    # plt.title(f'Token Generation Probabilities (Prob < {fix_prob})')\n",
    "    # # plt.xticks(rotation=90)\n",
    "    # plt.tight_layout()\n",
    "    # plt.show()\n",
    "    \n",
    "    colored_text = \"\"\n",
    "    for token, prob in zip(tokens, token_probs):\n",
    "        prob_value = torch.tensor(prob).min().item()  # 取最大概率\n",
    "        # 将概率映射到颜色\n",
    "        color = cmap(prob_value)  # 获取颜色\n",
    "        color_hex = '#%02x%02x%02x' % (int(color[0]*255), int(color[1]*255), int(color[2]*255))  # 转换为十六进制\n",
    "        # 将token和颜色添加到文本中\n",
    "        colored_text += f'<span style=\"color: {color_hex};\">{token}</span> '\n",
    "    \n",
    "    # 打印带颜色的文本\n",
    "    from IPython.display import display, HTML\n",
    "    display(HTML(colored_text))\n"
   ]
  },
  {
   "cell_type": "code",
   "execution_count": 80,
   "metadata": {},
   "outputs": [
    {
     "name": "stdout",
     "output_type": "stream",
     "text": [
      "Below is an instruction that describes a task. Write a response that appropriately completes the request in Chinese. Please answer in Chinese.\n",
      "\n",
      "### Instruction:\n",
      "卡拉正在下载一个 200 GB 的文件。正常情况下，她每分钟可以下载 2 GB，但在下载了 40% 的时候，Windows 强制重新启动以安装更新，而这个过程需要 20 分钟。然后卡拉不得不从头重新下载。下载这份文件需要多长时间？\n",
      "\n",
      "### Response:在 Windows 强制重新启动之前，卡拉已经下载了 200 GB * 0.4 = <<200*0.4=80>>80 GB。\n",
      "由于卡拉每分钟下载 2 GB，她需要 80 GB / 2 GB/分钟 = <<80/2=40>>40 分钟才能下载完剩下的 80 GB。\n",
      "由于卡拉需要重新下载 200 GB - 80 GB = <<200-80=120>>120 GB，她需要 120 GB / 2 GB/分钟 = <<120/2=60>>60 分钟来下载完这份文件。\n",
      "总共，卡拉需要 40 分钟 + 20 分钟 + 60 分钟 = <<40+20+60=120>>120 分钟来下载这份文件。\n"
     ]
    },
    {
     "name": "stderr",
     "output_type": "stream",
     "text": [
      "/tmp/ipykernel_3845738/3522055613.py:36: UserWarning: To copy construct from a tensor, it is recommended to use sourceTensor.clone().detach() or sourceTensor.clone().detach().requires_grad_(True), rather than torch.tensor(sourceTensor).\n",
      "  prob_value = torch.tensor(prob).min().item()  # 取最大概率\n"
     ]
    },
    {
     "data": {
      "text/html": [
       "<span style=\"color: #ff7100;\">在</span> <span style=\"color: #ff4900;\">▁Windows</span> <span style=\"color: #008000;\">▁</span> <span style=\"color: #ff8800;\">强</span> <span style=\"color: #048100;\">制</span> <span style=\"color: #098400;\">重</span> <span style=\"color: #389b00;\">新</span> <span style=\"color: #018000;\">启</span> <span style=\"color: #008000;\">动</span> <span style=\"color: #5cad00;\">之</span> <span style=\"color: #018000;\">前</span> <span style=\"color: #098400;\">，</span> <span style=\"color: #cae400;\">卡</span> <span style=\"color: #008000;\">拉</span> <span style=\"color: #ff8e00;\">已</span> <span style=\"color: #0e8600;\">经</span> <span style=\"color: #068200;\">下</span> <span style=\"color: #008000;\">载</span> <span style=\"color: #068200;\">了</span> <span style=\"color: #098400;\">▁</span> <span style=\"color: #269200;\">2</span> <span style=\"color: #108700;\">0</span> <span style=\"color: #018000;\">0</span> <span style=\"color: #56aa00;\">▁GB</span> <span style=\"color: #6cb500;\">▁*</span> <span style=\"color: #088300;\">▁</span> <span style=\"color: #ffea00;\">0</span> <span style=\"color: #008000;\">.</span> <span style=\"color: #068200;\">4</span> <span style=\"color: #188b00;\">▁=</span> <span style=\"color: #69b400;\">▁<<</span> <span style=\"color: #008000;\">2</span> <span style=\"color: #008000;\">0</span> <span style=\"color: #008000;\">0</span> <span style=\"color: #83c100;\">*</span> <span style=\"color: #008000;\">0</span> <span style=\"color: #008000;\">.</span> <span style=\"color: #008000;\">4</span> <span style=\"color: #008000;\">=</span> <span style=\"color: #008000;\">8</span> <span style=\"color: #008000;\">0</span> <span style=\"color: #008000;\">>></span> <span style=\"color: #008000;\">8</span> <span style=\"color: #008000;\">0</span> <span style=\"color: #018000;\">▁GB</span> <span style=\"color: #c3e100;\">。</span> <span style=\"color: #008000;\"><0x0A></span> <span style=\"color: #ff2c00;\">由</span> <span style=\"color: #008000;\">于</span> <span style=\"color: #ff6600;\">卡</span> <span style=\"color: #008000;\">拉</span> <span style=\"color: #c6e200;\">每</span> <span style=\"color: #008000;\">分</span> <span style=\"color: #008000;\">钟</span> <span style=\"color: #c6e200;\">下</span> <span style=\"color: #008000;\">载</span> <span style=\"color: #118800;\">▁</span> <span style=\"color: #008000;\">2</span> <span style=\"color: #018000;\">▁GB</span> <span style=\"color: #098400;\">，</span> <span style=\"color: #ffd800;\">她</span> <span style=\"color: #fff000;\">需</span> <span style=\"color: #008000;\">要</span> <span style=\"color: #ff9300;\">▁</span> <span style=\"color: #319800;\">8</span> <span style=\"color: #008000;\">0</span> <span style=\"color: #1e8e00;\">▁GB</span> <span style=\"color: #289300;\">▁/</span> <span style=\"color: #098400;\">▁</span> <span style=\"color: #008000;\">2</span> <span style=\"color: #018000;\">▁GB</span> <span style=\"color: #4ea600;\">/</span> <span style=\"color: #098400;\">分</span> <span style=\"color: #018000;\">钟</span> <span style=\"color: #008000;\">▁=</span> <span style=\"color: #369a00;\">▁<<</span> <span style=\"color: #008000;\">8</span> <span style=\"color: #008000;\">0</span> <span style=\"color: #008000;\">/</span> <span style=\"color: #008000;\">2</span> <span style=\"color: #008000;\">=</span> <span style=\"color: #008000;\">4</span> <span style=\"color: #008000;\">0</span> <span style=\"color: #008000;\">>></span> <span style=\"color: #008000;\">4</span> <span style=\"color: #008000;\">0</span> <span style=\"color: #008000;\">▁</span> <span style=\"color: #008000;\">分</span> <span style=\"color: #008000;\">钟</span> <span style=\"color: #deee00;\">才</span> <span style=\"color: #018000;\">能</span> <span style=\"color: #c3e100;\">下</span> <span style=\"color: #008000;\">载</span> <span style=\"color: #ffde00;\">完</span> <span style=\"color: #ffd000;\">剩</span> <span style=\"color: #0c8500;\">下</span> <span style=\"color: #048100;\">的</span> <span style=\"color: #ffe800;\">▁</span> <span style=\"color: #50a700;\">8</span> <span style=\"color: #008000;\">0</span> <span style=\"color: #118800;\">▁GB</span> <span style=\"color: #108700;\">。</span> <span style=\"color: #008000;\"><0x0A></span> <span style=\"color: #ff2000;\">由</span> <span style=\"color: #008000;\">于</span> <span style=\"color: #ff4100;\">卡</span> <span style=\"color: #008000;\">拉</span> <span style=\"color: #e0ef00;\">需</span> <span style=\"color: #008000;\">要</span> <span style=\"color: #eaf400;\">重</span> <span style=\"color: #108700;\">新</span> <span style=\"color: #2c9500;\">下</span> <span style=\"color: #008000;\">载</span> <span style=\"color: #ff7c00;\">▁</span> <span style=\"color: #cae400;\">2</span> <span style=\"color: #008000;\">0</span> <span style=\"color: #098400;\">0</span> <span style=\"color: #068200;\">▁GB</span> <span style=\"color: #aed600;\">▁-</span> <span style=\"color: #008000;\">▁</span> <span style=\"color: #018000;\">8</span> <span style=\"color: #008000;\">0</span> <span style=\"color: #008000;\">▁GB</span> <span style=\"color: #008000;\">▁=</span> <span style=\"color: #018000;\">▁<<</span> <span style=\"color: #008000;\">2</span> <span style=\"color: #008000;\">0</span> <span style=\"color: #008000;\">0</span> <span style=\"color: #008000;\">-</span> <span style=\"color: #008000;\">8</span> <span style=\"color: #008000;\">0</span> <span style=\"color: #008000;\">=</span> <span style=\"color: #008000;\">1</span> <span style=\"color: #008000;\">2</span> <span style=\"color: #008000;\">0</span> <span style=\"color: #008000;\">>></span> <span style=\"color: #008000;\">1</span> <span style=\"color: #008000;\">2</span> <span style=\"color: #008000;\">0</span> <span style=\"color: #008000;\">▁GB</span> <span style=\"color: #fefe00;\">，</span> <span style=\"color: #ff6800;\">她</span> <span style=\"color: #66b200;\">需</span> <span style=\"color: #008000;\">要</span> <span style=\"color: #54a900;\">▁</span> <span style=\"color: #018000;\">1</span> <span style=\"color: #008000;\">2</span> <span style=\"color: #008000;\">0</span> <span style=\"color: #008000;\">▁GB</span> <span style=\"color: #088300;\">▁/</span> <span style=\"color: #0e8600;\">▁</span> <span style=\"color: #008000;\">2</span> <span style=\"color: #008000;\">▁GB</span> <span style=\"color: #008000;\">/</span> <span style=\"color: #008000;\">分</span> <span style=\"color: #008000;\">钟</span> <span style=\"color: #008000;\">▁=</span> <span style=\"color: #0e8600;\">▁<<</span> <span style=\"color: #008000;\">1</span> <span style=\"color: #008000;\">2</span> <span style=\"color: #008000;\">0</span> <span style=\"color: #008000;\">/</span> <span style=\"color: #008000;\">2</span> <span style=\"color: #008000;\">=</span> <span style=\"color: #008000;\">6</span> <span style=\"color: #008000;\">0</span> <span style=\"color: #008000;\">>></span> <span style=\"color: #008000;\">6</span> <span style=\"color: #008000;\">0</span> <span style=\"color: #008000;\">▁</span> <span style=\"color: #008000;\">分</span> <span style=\"color: #008000;\">钟</span> <span style=\"color: #ff6600;\">来</span> <span style=\"color: #9acc00;\">下</span> <span style=\"color: #008000;\">载</span> <span style=\"color: #c2e000;\">完</span> <span style=\"color: #ff8800;\">这</span> <span style=\"color: #80bf00;\">份</span> <span style=\"color: #048100;\">文</span> <span style=\"color: #008000;\">件</span> <span style=\"color: #048100;\">。</span> <span style=\"color: #018000;\"><0x0A></span> <span style=\"color: #ff3c00;\">总</span> <span style=\"color: #2e9600;\">共</span> <span style=\"color: #98cb00;\">，</span> <span style=\"color: #e2f000;\">卡</span> <span style=\"color: #008000;\">拉</span> <span style=\"color: #1c8d00;\">需</span> <span style=\"color: #008000;\">要</span> <span style=\"color: #369a00;\">▁</span> <span style=\"color: #bede00;\">4</span> <span style=\"color: #008000;\">0</span> <span style=\"color: #168a00;\">▁</span> <span style=\"color: #008000;\">分</span> <span style=\"color: #008000;\">钟</span> <span style=\"color: #48a300;\">▁+</span> <span style=\"color: #008000;\">▁</span> <span style=\"color: #5eae00;\">2</span> <span style=\"color: #008000;\">0</span> <span style=\"color: #008000;\">▁</span> <span style=\"color: #008000;\">分</span> <span style=\"color: #008000;\">钟</span> <span style=\"color: #098400;\">▁+</span> <span style=\"color: #008000;\">▁</span> <span style=\"color: #008000;\">6</span> <span style=\"color: #008000;\">0</span> <span style=\"color: #008000;\">▁</span> <span style=\"color: #008000;\">分</span> <span style=\"color: #008000;\">钟</span> <span style=\"color: #008000;\">▁=</span> <span style=\"color: #098400;\">▁<<</span> <span style=\"color: #008000;\">4</span> <span style=\"color: #008000;\">0</span> <span style=\"color: #008000;\">+</span> <span style=\"color: #008000;\">2</span> <span style=\"color: #008000;\">0</span> <span style=\"color: #008000;\">+</span> <span style=\"color: #008000;\">6</span> <span style=\"color: #008000;\">0</span> <span style=\"color: #008000;\">=</span> <span style=\"color: #008000;\">1</span> <span style=\"color: #008000;\">2</span> <span style=\"color: #008000;\">0</span> <span style=\"color: #008000;\">>></span> <span style=\"color: #008000;\">1</span> <span style=\"color: #008000;\">2</span> <span style=\"color: #008000;\">0</span> <span style=\"color: #008000;\">▁</span> <span style=\"color: #008000;\">分</span> <span style=\"color: #008000;\">钟</span> <span style=\"color: #83c100;\">来</span> <span style=\"color: #048100;\">下</span> <span style=\"color: #008000;\">载</span> <span style=\"color: #68b300;\">这</span> <span style=\"color: #048100;\">份</span> <span style=\"color: #018000;\">文</span> <span style=\"color: #008000;\">件</span> <span style=\"color: #098400;\">。</span> "
      ],
      "text/plain": [
       "<IPython.core.display.HTML object>"
      ]
     },
     "metadata": {},
     "output_type": "display_data"
    }
   ],
   "source": [
    "print(results[0]['generated_text'])\n",
    "\n",
    "analysis_per_sample(results[0], fix_prob=0.8)"
   ]
  },
  {
   "cell_type": "code",
   "execution_count": 76,
   "metadata": {},
   "outputs": [
    {
     "name": "stdout",
     "output_type": "stream",
     "text": [
      "Below is an instruction that describes a task. Write a response that appropriately completes the request in Chinese. Please answer in Chinese.\n",
      "\n",
      "### Instruction:\n",
      "杰瑞正在摇一颗六面骰子。他摇出一个大于 3 的数字的可能性比连续摇出两个偶数的可能性大多少（以百分比表达）？\n",
      "\n",
      "### Response:首先，我们需要确定杰瑞摇出一个大于 3 的数字的概率。骰子有 6 面，所以有 3 面是大于 3 的数字。因此，杰瑞摇出一个大于 3 的数字的概率是 3/6 = 1/2 = 50%。\n",
      "接下来，我们需要确定杰瑞连续摇出两个偶数的概率。骰子有 6 面，所以有 3 面是偶数。因此，杰瑞摇出一个偶数的概率是 3/6 = 1/2 = 50%。\n",
      "由于杰瑞连续摇出两个偶数的概率是 50% * 50% = 25%，所以杰瑞摇出一个大于 3 的数字的概率比连续摇出两个偶数的概率大 50% - 25% = 25%。\n"
     ]
    },
    {
     "name": "stderr",
     "output_type": "stream",
     "text": [
      "/tmp/ipykernel_3845738/3522055613.py:36: UserWarning: To copy construct from a tensor, it is recommended to use sourceTensor.clone().detach() or sourceTensor.clone().detach().requires_grad_(True), rather than torch.tensor(sourceTensor).\n",
      "  prob_value = torch.tensor(prob).min().item()  # 取最大概率\n"
     ]
    },
    {
     "data": {
      "text/html": [
       "<span style=\"color: #ff8200;\">首</span> <span style=\"color: #008000;\">先</span> <span style=\"color: #fff200;\">，</span> <span style=\"color: #a6d200;\">我</span> <span style=\"color: #008000;\">们</span> <span style=\"color: #ffca00;\">需</span> <span style=\"color: #008000;\">要</span> <span style=\"color: #74b900;\">确</span> <span style=\"color: #008000;\">定</span> <span style=\"color: #ff8c00;\"><0xE6></span> <span style=\"color: #51a800;\"><0x9D></span> <span style=\"color: #008000;\"><0xB0></span> <span style=\"color: #008000;\">瑞</span> <span style=\"color: #8ec600;\"><0xE6></span> <span style=\"color: #008000;\"><0x91></span> <span style=\"color: #008000;\"><0x87></span> <span style=\"color: #208f00;\">出</span> <span style=\"color: #a0cf00;\">一个</span> <span style=\"color: #098400;\">大</span> <span style=\"color: #008000;\">于</span> <span style=\"color: #048100;\">▁</span> <span style=\"color: #008000;\">3</span> <span style=\"color: #008000;\">▁</span> <span style=\"color: #008000;\">的</span> <span style=\"color: #008000;\">数</span> <span style=\"color: #008000;\">字</span> <span style=\"color: #1e8e00;\">的</span> <span style=\"color: #ff9000;\">概</span> <span style=\"color: #008000;\">率</span> <span style=\"color: #49a400;\">。</span> <span style=\"color: #ff2a00;\"><0xE9></span> <span style=\"color: #008000;\"><0xAA></span> <span style=\"color: #008000;\"><0xB0></span> <span style=\"color: #008000;\">子</span> <span style=\"color: #e4f100;\">有</span> <span style=\"color: #aad400;\">▁</span> <span style=\"color: #249100;\">6</span> <span style=\"color: #188b00;\">▁</span> <span style=\"color: #71b800;\">面</span> <span style=\"color: #098400;\">，</span> <span style=\"color: #ff8200;\">所</span> <span style=\"color: #018000;\">以</span> <span style=\"color: #ff7c00;\">有</span> <span style=\"color: #0c8500;\">▁</span> <span style=\"color: #ffee00;\">3</span> <span style=\"color: #5eae00;\">▁</span> <span style=\"color: #349900;\">面</span> <span style=\"color: #ff9600;\">是</span> <span style=\"color: #48a300;\">大</span> <span style=\"color: #008000;\">于</span> <span style=\"color: #018000;\">▁</span> <span style=\"color: #008000;\">3</span> <span style=\"color: #008000;\">▁</span> <span style=\"color: #008000;\">的</span> <span style=\"color: #8cc500;\">数</span> <span style=\"color: #018000;\">字</span> <span style=\"color: #b3d900;\">。</span> <span style=\"color: #ffb200;\">因</span> <span style=\"color: #048100;\">此</span> <span style=\"color: #068200;\">，</span> <span style=\"color: #83c100;\"><0xE6></span> <span style=\"color: #098400;\"><0x9D></span> <span style=\"color: #008000;\"><0xB0></span> <span style=\"color: #008000;\">瑞</span> <span style=\"color: #0e8600;\"><0xE6></span> <span style=\"color: #008000;\"><0x91></span> <span style=\"color: #008000;\"><0x87></span> <span style=\"color: #008000;\">出</span> <span style=\"color: #249100;\">一个</span> <span style=\"color: #008000;\">大</span> <span style=\"color: #008000;\">于</span> <span style=\"color: #008000;\">▁</span> <span style=\"color: #008000;\">3</span> <span style=\"color: #008000;\">▁</span> <span style=\"color: #008000;\">的</span> <span style=\"color: #008000;\">数</span> <span style=\"color: #008000;\">字</span> <span style=\"color: #008000;\">的</span> <span style=\"color: #289300;\">概</span> <span style=\"color: #008000;\">率</span> <span style=\"color: #66b200;\">是</span> <span style=\"color: #118800;\">▁</span> <span style=\"color: #068200;\">3</span> <span style=\"color: #188b00;\">/</span> <span style=\"color: #008000;\">6</span> <span style=\"color: #5eae00;\">▁=</span> <span style=\"color: #198c00;\">▁</span> <span style=\"color: #9ccd00;\">1</span> <span style=\"color: #008000;\">/</span> <span style=\"color: #008000;\">2</span> <span style=\"color: #fffa00;\">▁=</span> <span style=\"color: #299400;\">▁</span> <span style=\"color: #389b00;\">5</span> <span style=\"color: #008000;\">0</span> <span style=\"color: #048100;\">%</span> <span style=\"color: #088300;\">。</span> <span style=\"color: #018000;\"><0x0A></span> <span style=\"color: #eef600;\">接</span> <span style=\"color: #008000;\">下</span> <span style=\"color: #008000;\">来</span> <span style=\"color: #008000;\">，</span> <span style=\"color: #018000;\">我</span> <span style=\"color: #008000;\">们</span> <span style=\"color: #088300;\">需</span> <span style=\"color: #008000;\">要</span> <span style=\"color: #068200;\">确</span> <span style=\"color: #008000;\">定</span> <span style=\"color: #c8e300;\"><0xE6></span> <span style=\"color: #008000;\"><0x9D></span> <span style=\"color: #008000;\"><0xB0></span> <span style=\"color: #008000;\">瑞</span> <span style=\"color: #61b000;\">连</span> <span style=\"color: #008000;\">续</span> <span style=\"color: #008000;\"><0xE6></span> <span style=\"color: #008000;\"><0x91></span> <span style=\"color: #008000;\"><0x87></span> <span style=\"color: #008000;\">出</span> <span style=\"color: #008000;\">两</span> <span style=\"color: #008000;\">个</span> <span style=\"color: #008000;\"><0xE5></span> <span style=\"color: #008000;\"><0x81></span> <span style=\"color: #008000;\"><0xB6></span> <span style=\"color: #008000;\">数</span> <span style=\"color: #008000;\">的</span> <span style=\"color: #0e8600;\">概</span> <span style=\"color: #008000;\">率</span> <span style=\"color: #068200;\">。</span> <span style=\"color: #a3d100;\"><0xE9></span> <span style=\"color: #008000;\"><0xAA></span> <span style=\"color: #008000;\"><0xB0></span> <span style=\"color: #008000;\">子</span> <span style=\"color: #51a800;\">有</span> <span style=\"color: #048100;\">▁</span> <span style=\"color: #fafc00;\">6</span> <span style=\"color: #018000;\">▁</span> <span style=\"color: #008000;\">面</span> <span style=\"color: #068200;\">，</span> <span style=\"color: #e4f100;\">所</span> <span style=\"color: #008000;\">以</span> <span style=\"color: #61b000;\">有</span> <span style=\"color: #008000;\">▁</span> <span style=\"color: #198c00;\">3</span> <span style=\"color: #018000;\">▁</span> <span style=\"color: #008000;\">面</span> <span style=\"color: #048100;\">是</span> <span style=\"color: #118800;\"><0xE5></span> <span style=\"color: #008000;\"><0x81></span> <span style=\"color: #008000;\"><0xB6></span> <span style=\"color: #008000;\">数</span> <span style=\"color: #78bb00;\">。</span> <span style=\"color: #aad400;\">因</span> <span style=\"color: #008000;\">此</span> <span style=\"color: #008000;\">，</span> <span style=\"color: #369a00;\"><0xE6></span> <span style=\"color: #008000;\"><0x9D></span> <span style=\"color: #008000;\"><0xB0></span> <span style=\"color: #008000;\">瑞</span> <span style=\"color: #e8f300;\"><0xE6></span> <span style=\"color: #008000;\"><0x91></span> <span style=\"color: #008000;\"><0x87></span> <span style=\"color: #008000;\">出</span> <span style=\"color: #7cbd00;\">一个</span> <span style=\"color: #048100;\"><0xE5></span> <span style=\"color: #008000;\"><0x81></span> <span style=\"color: #008000;\"><0xB6></span> <span style=\"color: #008000;\">数</span> <span style=\"color: #068200;\">的</span> <span style=\"color: #068200;\">概</span> <span style=\"color: #008000;\">率</span> <span style=\"color: #018000;\">是</span> <span style=\"color: #008000;\">▁</span> <span style=\"color: #048100;\">3</span> <span style=\"color: #008000;\">/</span> <span style=\"color: #008000;\">6</span> <span style=\"color: #008000;\">▁=</span> <span style=\"color: #008000;\">▁</span> <span style=\"color: #008000;\">1</span> <span style=\"color: #008000;\">/</span> <span style=\"color: #008000;\">2</span> <span style=\"color: #008000;\">▁=</span> <span style=\"color: #008000;\">▁</span> <span style=\"color: #008000;\">5</span> <span style=\"color: #008000;\">0</span> <span style=\"color: #008000;\">%</span> <span style=\"color: #048100;\">。</span> <span style=\"color: #cce500;\"><0x0A></span> <span style=\"color: #fffa00;\">由</span> <span style=\"color: #008000;\">于</span> <span style=\"color: #aad400;\"><0xE6></span> <span style=\"color: #018000;\"><0x9D></span> <span style=\"color: #008000;\"><0xB0></span> <span style=\"color: #008000;\">瑞</span> <span style=\"color: #ffde00;\">连</span> <span style=\"color: #008000;\">续</span> <span style=\"color: #048100;\"><0xE6></span> <span style=\"color: #008000;\"><0x91></span> <span style=\"color: #008000;\"><0x87></span> <span style=\"color: #048100;\">出</span> <span style=\"color: #068200;\">两</span> <span style=\"color: #008000;\">个</span> <span style=\"color: #0c8500;\"><0xE5></span> <span style=\"color: #008000;\"><0x81></span> <span style=\"color: #008000;\"><0xB6></span> <span style=\"color: #008000;\">数</span> <span style=\"color: #299400;\">的</span> <span style=\"color: #44a100;\">概</span> <span style=\"color: #008000;\">率</span> <span style=\"color: #a2d000;\">是</span> <span style=\"color: #74b900;\">▁</span> <span style=\"color: #1c8d00;\">5</span> <span style=\"color: #008000;\">0</span> <span style=\"color: #068200;\">%</span> <span style=\"color: #ffc200;\">▁*</span> <span style=\"color: #008000;\">▁</span> <span style=\"color: #008000;\">5</span> <span style=\"color: #008000;\">0</span> <span style=\"color: #008000;\">%</span> <span style=\"color: #008000;\">▁=</span> <span style=\"color: #008000;\">▁</span> <span style=\"color: #018000;\">2</span> <span style=\"color: #008000;\">5</span> <span style=\"color: #008000;\">%</span> <span style=\"color: #349900;\">，</span> <span style=\"color: #ff8c00;\">所</span> <span style=\"color: #008000;\">以</span> <span style=\"color: #aad400;\"><0xE6></span> <span style=\"color: #008000;\"><0x9D></span> <span style=\"color: #008000;\"><0xB0></span> <span style=\"color: #008000;\">瑞</span> <span style=\"color: #0e8600;\"><0xE6></span> <span style=\"color: #008000;\"><0x91></span> <span style=\"color: #008000;\"><0x87></span> <span style=\"color: #008000;\">出</span> <span style=\"color: #018000;\">一个</span> <span style=\"color: #018000;\">大</span> <span style=\"color: #008000;\">于</span> <span style=\"color: #008000;\">▁</span> <span style=\"color: #008000;\">3</span> <span style=\"color: #008000;\">▁</span> <span style=\"color: #008000;\">的</span> <span style=\"color: #008000;\">数</span> <span style=\"color: #008000;\">字</span> <span style=\"color: #118800;\">的</span> <span style=\"color: #ffe300;\">概</span> <span style=\"color: #008000;\">率</span> <span style=\"color: #56aa00;\">比</span> <span style=\"color: #b3d900;\">连</span> <span style=\"color: #008000;\">续</span> <span style=\"color: #008000;\"><0xE6></span> <span style=\"color: #008000;\"><0x91></span> <span style=\"color: #008000;\"><0x87></span> <span style=\"color: #008000;\">出</span> <span style=\"color: #008000;\">两</span> <span style=\"color: #008000;\">个</span> <span style=\"color: #008000;\"><0xE5></span> <span style=\"color: #008000;\"><0x81></span> <span style=\"color: #008000;\"><0xB6></span> <span style=\"color: #008000;\">数</span> <span style=\"color: #118800;\">的</span> <span style=\"color: #0e8600;\">概</span> <span style=\"color: #008000;\">率</span> <span style=\"color: #1c8d00;\">大</span> <span style=\"color: #369a00;\">▁</span> <span style=\"color: #e2f000;\">5</span> <span style=\"color: #008000;\">0</span> <span style=\"color: #148900;\">%</span> <span style=\"color: #048100;\">▁-</span> <span style=\"color: #008000;\">▁</span> <span style=\"color: #008000;\">2</span> <span style=\"color: #008000;\">5</span> <span style=\"color: #008000;\">%</span> <span style=\"color: #008000;\">▁=</span> <span style=\"color: #018000;\">▁</span> <span style=\"color: #018000;\">2</span> <span style=\"color: #008000;\">5</span> <span style=\"color: #008000;\">%</span> <span style=\"color: #0c8500;\">。</span> "
      ],
      "text/plain": [
       "<IPython.core.display.HTML object>"
      ]
     },
     "metadata": {},
     "output_type": "display_data"
    }
   ],
   "source": [
    "print(results[1]['generated_text'])\n",
    "\n",
    "analysis_per_sample(results[1], fix_prob=0.8)"
   ]
  },
  {
   "cell_type": "code",
   "execution_count": 46,
   "metadata": {},
   "outputs": [],
   "source": [
    "inputs = tokenizer(correct_data[0]['generated_texts'], return_tensors=\"pt\")\n",
    "source = tokenizer(correct_data[0]['prompt'], return_tensors=\"pt\")"
   ]
  },
  {
   "cell_type": "code",
   "execution_count": 48,
   "metadata": {},
   "outputs": [
    {
     "data": {
      "text/plain": [
       "['<s>',\n",
       " '▁Below',\n",
       " '▁is',\n",
       " '▁an',\n",
       " '▁instruction',\n",
       " '▁that',\n",
       " '▁describes',\n",
       " '▁a',\n",
       " '▁task',\n",
       " '.',\n",
       " '▁Write',\n",
       " '▁a',\n",
       " '▁response',\n",
       " '▁that',\n",
       " '▁appropri',\n",
       " 'ately',\n",
       " '▁complet',\n",
       " 'es',\n",
       " '▁the',\n",
       " '▁request',\n",
       " '▁in',\n",
       " '▁Sw',\n",
       " 'ah',\n",
       " 'ili',\n",
       " '.',\n",
       " '▁Please',\n",
       " '▁answer',\n",
       " '▁in',\n",
       " '▁Sw',\n",
       " 'ah',\n",
       " 'ili',\n",
       " '.',\n",
       " '<0x0A>',\n",
       " '<0x0A>',\n",
       " '###',\n",
       " '▁Inst',\n",
       " 'ruction',\n",
       " ':',\n",
       " '<0x0A>',\n",
       " 'J',\n",
       " 'ill',\n",
       " '▁anal',\n",
       " 'ip',\n",
       " 'wa',\n",
       " '▁$',\n",
       " '2',\n",
       " '0',\n",
       " '▁k',\n",
       " 'ila',\n",
       " '▁sa',\n",
       " 'a',\n",
       " '▁k',\n",
       " 'uf',\n",
       " 'un',\n",
       " 'za',\n",
       " '▁na',\n",
       " '▁$',\n",
       " '3',\n",
       " '0',\n",
       " '▁k',\n",
       " 'u',\n",
       " 'wa',\n",
       " '▁k',\n",
       " 'och',\n",
       " 'a',\n",
       " '▁wa',\n",
       " '▁m',\n",
       " 'ash',\n",
       " 'ab',\n",
       " 'iki',\n",
       " '.',\n",
       " '▁I',\n",
       " 'w',\n",
       " 'ap',\n",
       " 'o',\n",
       " '▁h',\n",
       " 'u',\n",
       " 'wa',\n",
       " '▁an',\n",
       " 'af',\n",
       " 'anya',\n",
       " '▁k',\n",
       " 'azi',\n",
       " '▁w',\n",
       " 'iki',\n",
       " '▁',\n",
       " '5',\n",
       " '0',\n",
       " '▁k',\n",
       " 'wa',\n",
       " '▁m',\n",
       " 'w',\n",
       " 'aka',\n",
       " ',',\n",
       " '▁sa',\n",
       " 'a',\n",
       " '▁',\n",
       " '3',\n",
       " '5',\n",
       " '▁k',\n",
       " 'wa',\n",
       " '▁w',\n",
       " 'iki',\n",
       " '▁k',\n",
       " 'ama',\n",
       " '▁m',\n",
       " 'wal',\n",
       " 'im',\n",
       " 'u',\n",
       " '▁na',\n",
       " '▁sa',\n",
       " 'a',\n",
       " '▁',\n",
       " '1',\n",
       " '5',\n",
       " '▁k',\n",
       " 'ama',\n",
       " '▁k',\n",
       " 'och',\n",
       " 'a',\n",
       " ',',\n",
       " '▁m',\n",
       " 'sh',\n",
       " 'ah',\n",
       " 'ara',\n",
       " '▁wake',\n",
       " '▁wa',\n",
       " '▁k',\n",
       " 'ila',\n",
       " '▁m',\n",
       " 'w',\n",
       " 'aka',\n",
       " '▁ni',\n",
       " '▁ng',\n",
       " 'api',\n",
       " '?',\n",
       " '<0x0A>',\n",
       " '<0x0A>',\n",
       " '###',\n",
       " '▁Response',\n",
       " ':']"
      ]
     },
     "execution_count": 48,
     "metadata": {},
     "output_type": "execute_result"
    }
   ],
   "source": [
    "tokenizer.convert_ids_to_tokens(inputs['input_ids'][0, source['input_ids'].size(-1)].item())\n",
    "tokenizer.convert_ids_to_tokens(inputs['input_ids'][0, :source['input_ids'].size(-1)])"
   ]
  }
 ],
 "metadata": {
  "kernelspec": {
   "display_name": "laizj-torch2.5-py310",
   "language": "python",
   "name": "python3"
  },
  "language_info": {
   "codemirror_mode": {
    "name": "ipython",
    "version": 3
   },
   "file_extension": ".py",
   "mimetype": "text/x-python",
   "name": "python",
   "nbconvert_exporter": "python",
   "pygments_lexer": "ipython3",
   "version": "3.10.16"
  }
 },
 "nbformat": 4,
 "nbformat_minor": 2
}
